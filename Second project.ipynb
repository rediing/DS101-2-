{
 "cells": [
  {
   "cell_type": "code",
   "execution_count": 4,
   "id": "24002992-5f1a-4905-9d1c-00df1fe2010c",
   "metadata": {},
   "outputs": [
    {
     "name": "stdout",
     "output_type": "stream",
     "text": [
      "Requirement already satisfied: pandas in c:\\users\\minseok\\anaconda3\\lib\\site-packages (2.2.2)\n",
      "Requirement already satisfied: openpyxl in c:\\users\\minseok\\anaconda3\\lib\\site-packages (3.1.5)\n",
      "Requirement already satisfied: numpy>=1.26.0 in c:\\users\\minseok\\anaconda3\\lib\\site-packages (from pandas) (1.26.4)\n",
      "Requirement already satisfied: python-dateutil>=2.8.2 in c:\\users\\minseok\\anaconda3\\lib\\site-packages (from pandas) (2.9.0.post0)\n",
      "Requirement already satisfied: pytz>=2020.1 in c:\\users\\minseok\\anaconda3\\lib\\site-packages (from pandas) (2024.1)\n",
      "Requirement already satisfied: tzdata>=2022.7 in c:\\users\\minseok\\anaconda3\\lib\\site-packages (from pandas) (2023.3)\n",
      "Requirement already satisfied: et-xmlfile in c:\\users\\minseok\\anaconda3\\lib\\site-packages (from openpyxl) (1.1.0)\n",
      "Requirement already satisfied: six>=1.5 in c:\\users\\minseok\\anaconda3\\lib\\site-packages (from python-dateutil>=2.8.2->pandas) (1.16.0)\n"
     ]
    }
   ],
   "source": [
    "!pip install pandas openpyxl"
   ]
  },
  {
   "cell_type": "code",
   "execution_count": 267,
   "id": "6b9eb22e-aa79-4349-a145-e14384739214",
   "metadata": {},
   "outputs": [
    {
     "name": "stdout",
     "output_type": "stream",
     "text": [
      "Requirement already satisfied: statsmodels in c:\\users\\minseok\\anaconda3\\lib\\site-packages (0.14.2)\n",
      "Requirement already satisfied: numpy>=1.22.3 in c:\\users\\minseok\\anaconda3\\lib\\site-packages (from statsmodels) (1.26.4)\n",
      "Requirement already satisfied: scipy!=1.9.2,>=1.8 in c:\\users\\minseok\\anaconda3\\lib\\site-packages (from statsmodels) (1.13.1)\n",
      "Requirement already satisfied: pandas!=2.1.0,>=1.4 in c:\\users\\minseok\\anaconda3\\lib\\site-packages (from statsmodels) (2.2.2)\n",
      "Requirement already satisfied: patsy>=0.5.6 in c:\\users\\minseok\\anaconda3\\lib\\site-packages (from statsmodels) (0.5.6)\n",
      "Requirement already satisfied: packaging>=21.3 in c:\\users\\minseok\\anaconda3\\lib\\site-packages (from statsmodels) (24.1)\n",
      "Requirement already satisfied: python-dateutil>=2.8.2 in c:\\users\\minseok\\anaconda3\\lib\\site-packages (from pandas!=2.1.0,>=1.4->statsmodels) (2.9.0.post0)\n",
      "Requirement already satisfied: pytz>=2020.1 in c:\\users\\minseok\\anaconda3\\lib\\site-packages (from pandas!=2.1.0,>=1.4->statsmodels) (2024.1)\n",
      "Requirement already satisfied: tzdata>=2022.7 in c:\\users\\minseok\\anaconda3\\lib\\site-packages (from pandas!=2.1.0,>=1.4->statsmodels) (2023.3)\n",
      "Requirement already satisfied: six in c:\\users\\minseok\\anaconda3\\lib\\site-packages (from patsy>=0.5.6->statsmodels) (1.16.0)\n"
     ]
    }
   ],
   "source": [
    "!pip install statsmodels"
   ]
  },
  {
   "cell_type": "code",
   "execution_count": 77,
   "id": "501c15d9-8015-4ec0-87f8-b5a330ab883b",
   "metadata": {},
   "outputs": [],
   "source": [
    "# 라이브러리 임포트\n",
    "import numpy as np\n",
    "import numpy.random as random\n",
    "import scipy as sp\n",
    "import scipy.stats as stats\n",
    "import pandas as pd\n",
    "from pandas import Series, DataFrame\n",
    "\n",
    "import statsmodels.formula.api as smf\n",
    "import statsmodels.api as sm\n",
    "from scipy.stats import mannwhitneyu\n",
    "\n",
    "# 시각화 라이브러리\n",
    "import matplotlib.pyplot as plt\n",
    "import matplotlib as mpl\n",
    "from statsmodels.graphics.mosaicplot import mosaic\n",
    "mpl.rc('font',family='Malgun Gothic')  # 한글폰트 설정 \"맑은 고딕\"\n",
    "import seaborn as sns\n",
    "%matplotlib inline\n",
    "\n",
    "# 소수점 3자리까지 표시\n",
    "%precision 3\n",
    "\n",
    "\n",
    "# 엑셀 파일 경로\n",
    "file_path = r\"C:\\Users\\MINSEOK\\Downloads\\국민건강영양조사_(2010-2023)\\hn23_all.xlsx\"\n",
    "df_22=pd.read_excel(r\"C:\\Users\\MINSEOK\\Downloads\\국민건강영양조사_(2010-2023)\\hn22_all.xlsx\")\n",
    "df = pd.read_excel(file_path, engine='openpyxl')"
   ]
  },
  {
   "cell_type": "code",
   "execution_count": 78,
   "id": "ff54339f-0669-4954-a448-b6e08c5a290d",
   "metadata": {},
   "outputs": [
    {
     "data": {
      "text/html": [
       "<div>\n",
       "<style scoped>\n",
       "    .dataframe tbody tr th:only-of-type {\n",
       "        vertical-align: middle;\n",
       "    }\n",
       "\n",
       "    .dataframe tbody tr th {\n",
       "        vertical-align: top;\n",
       "    }\n",
       "\n",
       "    .dataframe thead th {\n",
       "        text-align: right;\n",
       "    }\n",
       "</style>\n",
       "<table border=\"1\" class=\"dataframe\">\n",
       "  <thead>\n",
       "    <tr style=\"text-align: right;\">\n",
       "      <th></th>\n",
       "      <th>mod_d</th>\n",
       "      <th>ID</th>\n",
       "      <th>ID_fam</th>\n",
       "      <th>year</th>\n",
       "      <th>region</th>\n",
       "      <th>town_t</th>\n",
       "      <th>apt_t</th>\n",
       "      <th>psu</th>\n",
       "      <th>sex</th>\n",
       "      <th>age</th>\n",
       "      <th>...</th>\n",
       "      <th>N_CAROT</th>\n",
       "      <th>N_RETIN</th>\n",
       "      <th>N_B1</th>\n",
       "      <th>N_B2</th>\n",
       "      <th>N_NIAC</th>\n",
       "      <th>N_FOLATE</th>\n",
       "      <th>N_VITC</th>\n",
       "      <th>LF_SECUR_Y</th>\n",
       "      <th>LF_BUYER</th>\n",
       "      <th>LF_SAFE</th>\n",
       "    </tr>\n",
       "  </thead>\n",
       "  <tbody>\n",
       "    <tr>\n",
       "      <th>0</th>\n",
       "      <td>2024.12.10.</td>\n",
       "      <td>YA84208301</td>\n",
       "      <td>YA842083</td>\n",
       "      <td>2023</td>\n",
       "      <td>1</td>\n",
       "      <td>1</td>\n",
       "      <td>2</td>\n",
       "      <td>YA84</td>\n",
       "      <td>1</td>\n",
       "      <td>75</td>\n",
       "      <td>...</td>\n",
       "      <td>2704.555129</td>\n",
       "      <td>22.304061</td>\n",
       "      <td>0.689636</td>\n",
       "      <td>0.911565</td>\n",
       "      <td>4.519287</td>\n",
       "      <td>108.528994</td>\n",
       "      <td>29.390490</td>\n",
       "      <td>1.0</td>\n",
       "      <td>1.0</td>\n",
       "      <td>1.0</td>\n",
       "    </tr>\n",
       "    <tr>\n",
       "      <th>1</th>\n",
       "      <td>2024.12.10.</td>\n",
       "      <td>YA84208302</td>\n",
       "      <td>YA842083</td>\n",
       "      <td>2023</td>\n",
       "      <td>1</td>\n",
       "      <td>1</td>\n",
       "      <td>2</td>\n",
       "      <td>YA84</td>\n",
       "      <td>2</td>\n",
       "      <td>70</td>\n",
       "      <td>...</td>\n",
       "      <td>1190.505880</td>\n",
       "      <td>44.455061</td>\n",
       "      <td>1.010501</td>\n",
       "      <td>0.839130</td>\n",
       "      <td>6.333379</td>\n",
       "      <td>52.454348</td>\n",
       "      <td>15.650710</td>\n",
       "      <td>1.0</td>\n",
       "      <td>1.0</td>\n",
       "      <td>1.0</td>\n",
       "    </tr>\n",
       "    <tr>\n",
       "      <th>2</th>\n",
       "      <td>2024.12.10.</td>\n",
       "      <td>YA84212402</td>\n",
       "      <td>YA842124</td>\n",
       "      <td>2023</td>\n",
       "      <td>1</td>\n",
       "      <td>1</td>\n",
       "      <td>2</td>\n",
       "      <td>YA84</td>\n",
       "      <td>2</td>\n",
       "      <td>42</td>\n",
       "      <td>...</td>\n",
       "      <td>6752.011600</td>\n",
       "      <td>364.273465</td>\n",
       "      <td>1.839332</td>\n",
       "      <td>3.257774</td>\n",
       "      <td>24.363661</td>\n",
       "      <td>231.528144</td>\n",
       "      <td>35.242941</td>\n",
       "      <td>1.0</td>\n",
       "      <td>1.0</td>\n",
       "      <td>2.0</td>\n",
       "    </tr>\n",
       "    <tr>\n",
       "      <th>3</th>\n",
       "      <td>2024.12.10.</td>\n",
       "      <td>YA84212404</td>\n",
       "      <td>YA842124</td>\n",
       "      <td>2023</td>\n",
       "      <td>1</td>\n",
       "      <td>1</td>\n",
       "      <td>2</td>\n",
       "      <td>YA84</td>\n",
       "      <td>2</td>\n",
       "      <td>9</td>\n",
       "      <td>...</td>\n",
       "      <td>2213.362823</td>\n",
       "      <td>893.834459</td>\n",
       "      <td>1.873845</td>\n",
       "      <td>2.962366</td>\n",
       "      <td>22.194257</td>\n",
       "      <td>374.230895</td>\n",
       "      <td>69.595766</td>\n",
       "      <td>1.0</td>\n",
       "      <td>1.0</td>\n",
       "      <td>2.0</td>\n",
       "    </tr>\n",
       "    <tr>\n",
       "      <th>4</th>\n",
       "      <td>2024.12.10.</td>\n",
       "      <td>YA84242702</td>\n",
       "      <td>YA842427</td>\n",
       "      <td>2023</td>\n",
       "      <td>1</td>\n",
       "      <td>1</td>\n",
       "      <td>2</td>\n",
       "      <td>YA84</td>\n",
       "      <td>1</td>\n",
       "      <td>43</td>\n",
       "      <td>...</td>\n",
       "      <td>2136.906180</td>\n",
       "      <td>309.283062</td>\n",
       "      <td>1.086500</td>\n",
       "      <td>2.021552</td>\n",
       "      <td>10.360013</td>\n",
       "      <td>366.058694</td>\n",
       "      <td>65.171145</td>\n",
       "      <td>1.0</td>\n",
       "      <td>1.0</td>\n",
       "      <td>1.0</td>\n",
       "    </tr>\n",
       "    <tr>\n",
       "      <th>...</th>\n",
       "      <td>...</td>\n",
       "      <td>...</td>\n",
       "      <td>...</td>\n",
       "      <td>...</td>\n",
       "      <td>...</td>\n",
       "      <td>...</td>\n",
       "      <td>...</td>\n",
       "      <td>...</td>\n",
       "      <td>...</td>\n",
       "      <td>...</td>\n",
       "      <td>...</td>\n",
       "      <td>...</td>\n",
       "      <td>...</td>\n",
       "      <td>...</td>\n",
       "      <td>...</td>\n",
       "      <td>...</td>\n",
       "      <td>...</td>\n",
       "      <td>...</td>\n",
       "      <td>...</td>\n",
       "      <td>...</td>\n",
       "      <td>...</td>\n",
       "    </tr>\n",
       "    <tr>\n",
       "      <th>6924</th>\n",
       "      <td>2024.12.10.</td>\n",
       "      <td>YR62368101</td>\n",
       "      <td>YR623681</td>\n",
       "      <td>2023</td>\n",
       "      <td>8</td>\n",
       "      <td>2</td>\n",
       "      <td>1</td>\n",
       "      <td>YR62</td>\n",
       "      <td>1</td>\n",
       "      <td>80</td>\n",
       "      <td>...</td>\n",
       "      <td>2158.199974</td>\n",
       "      <td>9.514286</td>\n",
       "      <td>0.652938</td>\n",
       "      <td>1.151994</td>\n",
       "      <td>12.808814</td>\n",
       "      <td>337.352062</td>\n",
       "      <td>26.125158</td>\n",
       "      <td>1.0</td>\n",
       "      <td>1.0</td>\n",
       "      <td>1.0</td>\n",
       "    </tr>\n",
       "    <tr>\n",
       "      <th>6925</th>\n",
       "      <td>2024.12.10.</td>\n",
       "      <td>YR62368102</td>\n",
       "      <td>YR623681</td>\n",
       "      <td>2023</td>\n",
       "      <td>8</td>\n",
       "      <td>2</td>\n",
       "      <td>1</td>\n",
       "      <td>YR62</td>\n",
       "      <td>2</td>\n",
       "      <td>78</td>\n",
       "      <td>...</td>\n",
       "      <td>2217.551546</td>\n",
       "      <td>42.535857</td>\n",
       "      <td>1.310568</td>\n",
       "      <td>1.151318</td>\n",
       "      <td>14.870108</td>\n",
       "      <td>184.289904</td>\n",
       "      <td>17.537722</td>\n",
       "      <td>1.0</td>\n",
       "      <td>1.0</td>\n",
       "      <td>1.0</td>\n",
       "    </tr>\n",
       "    <tr>\n",
       "      <th>6926</th>\n",
       "      <td>2024.12.10.</td>\n",
       "      <td>YR62370201</td>\n",
       "      <td>YR623702</td>\n",
       "      <td>2023</td>\n",
       "      <td>8</td>\n",
       "      <td>2</td>\n",
       "      <td>1</td>\n",
       "      <td>YR62</td>\n",
       "      <td>2</td>\n",
       "      <td>61</td>\n",
       "      <td>...</td>\n",
       "      <td>949.749369</td>\n",
       "      <td>219.443462</td>\n",
       "      <td>0.742543</td>\n",
       "      <td>1.677973</td>\n",
       "      <td>10.877976</td>\n",
       "      <td>417.792346</td>\n",
       "      <td>20.586685</td>\n",
       "      <td>1.0</td>\n",
       "      <td>1.0</td>\n",
       "      <td>1.0</td>\n",
       "    </tr>\n",
       "    <tr>\n",
       "      <th>6927</th>\n",
       "      <td>2024.12.10.</td>\n",
       "      <td>YR62394401</td>\n",
       "      <td>YR623944</td>\n",
       "      <td>2023</td>\n",
       "      <td>8</td>\n",
       "      <td>2</td>\n",
       "      <td>1</td>\n",
       "      <td>YR62</td>\n",
       "      <td>1</td>\n",
       "      <td>57</td>\n",
       "      <td>...</td>\n",
       "      <td>4495.650299</td>\n",
       "      <td>193.857866</td>\n",
       "      <td>0.937317</td>\n",
       "      <td>1.827701</td>\n",
       "      <td>7.649848</td>\n",
       "      <td>433.988024</td>\n",
       "      <td>53.146545</td>\n",
       "      <td>1.0</td>\n",
       "      <td>2.0</td>\n",
       "      <td>1.0</td>\n",
       "    </tr>\n",
       "    <tr>\n",
       "      <th>6928</th>\n",
       "      <td>2024.12.10.</td>\n",
       "      <td>YR62432901</td>\n",
       "      <td>YR624329</td>\n",
       "      <td>2023</td>\n",
       "      <td>8</td>\n",
       "      <td>2</td>\n",
       "      <td>1</td>\n",
       "      <td>YR62</td>\n",
       "      <td>1</td>\n",
       "      <td>49</td>\n",
       "      <td>...</td>\n",
       "      <td>3437.038826</td>\n",
       "      <td>131.239187</td>\n",
       "      <td>1.016950</td>\n",
       "      <td>2.428429</td>\n",
       "      <td>19.017275</td>\n",
       "      <td>888.811141</td>\n",
       "      <td>33.616615</td>\n",
       "      <td>1.0</td>\n",
       "      <td>1.0</td>\n",
       "      <td>1.0</td>\n",
       "    </tr>\n",
       "  </tbody>\n",
       "</table>\n",
       "<p>6929 rows × 629 columns</p>\n",
       "</div>"
      ],
      "text/plain": [
       "            mod_d          ID    ID_fam  year  region  town_t  apt_t   psu  \\\n",
       "0     2024.12.10.  YA84208301  YA842083  2023       1       1      2  YA84   \n",
       "1     2024.12.10.  YA84208302  YA842083  2023       1       1      2  YA84   \n",
       "2     2024.12.10.  YA84212402  YA842124  2023       1       1      2  YA84   \n",
       "3     2024.12.10.  YA84212404  YA842124  2023       1       1      2  YA84   \n",
       "4     2024.12.10.  YA84242702  YA842427  2023       1       1      2  YA84   \n",
       "...           ...         ...       ...   ...     ...     ...    ...   ...   \n",
       "6924  2024.12.10.  YR62368101  YR623681  2023       8       2      1  YR62   \n",
       "6925  2024.12.10.  YR62368102  YR623681  2023       8       2      1  YR62   \n",
       "6926  2024.12.10.  YR62370201  YR623702  2023       8       2      1  YR62   \n",
       "6927  2024.12.10.  YR62394401  YR623944  2023       8       2      1  YR62   \n",
       "6928  2024.12.10.  YR62432901  YR624329  2023       8       2      1  YR62   \n",
       "\n",
       "      sex  age  ...      N_CAROT     N_RETIN      N_B1      N_B2     N_NIAC  \\\n",
       "0       1   75  ...  2704.555129   22.304061  0.689636  0.911565   4.519287   \n",
       "1       2   70  ...  1190.505880   44.455061  1.010501  0.839130   6.333379   \n",
       "2       2   42  ...  6752.011600  364.273465  1.839332  3.257774  24.363661   \n",
       "3       2    9  ...  2213.362823  893.834459  1.873845  2.962366  22.194257   \n",
       "4       1   43  ...  2136.906180  309.283062  1.086500  2.021552  10.360013   \n",
       "...   ...  ...  ...          ...         ...       ...       ...        ...   \n",
       "6924    1   80  ...  2158.199974    9.514286  0.652938  1.151994  12.808814   \n",
       "6925    2   78  ...  2217.551546   42.535857  1.310568  1.151318  14.870108   \n",
       "6926    2   61  ...   949.749369  219.443462  0.742543  1.677973  10.877976   \n",
       "6927    1   57  ...  4495.650299  193.857866  0.937317  1.827701   7.649848   \n",
       "6928    1   49  ...  3437.038826  131.239187  1.016950  2.428429  19.017275   \n",
       "\n",
       "        N_FOLATE     N_VITC  LF_SECUR_Y  LF_BUYER  LF_SAFE  \n",
       "0     108.528994  29.390490         1.0       1.0      1.0  \n",
       "1      52.454348  15.650710         1.0       1.0      1.0  \n",
       "2     231.528144  35.242941         1.0       1.0      2.0  \n",
       "3     374.230895  69.595766         1.0       1.0      2.0  \n",
       "4     366.058694  65.171145         1.0       1.0      1.0  \n",
       "...          ...        ...         ...       ...      ...  \n",
       "6924  337.352062  26.125158         1.0       1.0      1.0  \n",
       "6925  184.289904  17.537722         1.0       1.0      1.0  \n",
       "6926  417.792346  20.586685         1.0       1.0      1.0  \n",
       "6927  433.988024  53.146545         1.0       2.0      1.0  \n",
       "6928  888.811141  33.616615         1.0       1.0      1.0  \n",
       "\n",
       "[6929 rows x 629 columns]"
      ]
     },
     "execution_count": 78,
     "metadata": {},
     "output_type": "execute_result"
    }
   ],
   "source": [
    "df"
   ]
  },
  {
   "cell_type": "code",
   "execution_count": 79,
   "id": "e733b76e-c789-4ec9-be60-cdab7f218076",
   "metadata": {},
   "outputs": [],
   "source": [
    "selected_cols = ['ID', 'sex', 'age', 'BE3_73','BE3_74', 'BE3_77','BE3_78', 'BE3_83','BE3_84', 'BE3_87','BE3_88', 'pa_aerobic','HE_obe', 'HE_BMI']\n",
    "df_selected = df[selected_cols]"
   ]
  },
  {
   "cell_type": "code",
   "execution_count": 80,
   "id": "76408dcb-0ccc-4d7c-9e1a-99b41b4d6245",
   "metadata": {},
   "outputs": [],
   "source": [
    "df_selected.columns = df_selected.columns.str.strip()  # 공백 제거"
   ]
  },
  {
   "cell_type": "code",
   "execution_count": 81,
   "id": "e8d14557-36b2-43bc-b077-442bdb8071c2",
   "metadata": {},
   "outputs": [],
   "source": [
    "#1: 남성, 2: 여성\n",
    "df_selected = df_selected.replace({'sex': 1}, 'M')\n",
    "df_selected = df_selected.replace({'sex': 2}, 'F')"
   ]
  },
  {
   "cell_type": "code",
   "execution_count": 82,
   "id": "65f70889-af23-41fc-bd56-f6004cc8ea44",
   "metadata": {},
   "outputs": [],
   "source": [
    "df_selected = df_selected.rename(columns={\n",
    "    'BE3_73': 'vigorous_work(h)',\n",
    "    'BE3_74': 'vigorous_work(m)',\n",
    "    'BE3_77': 'vigorous_leisure(h)',\n",
    "    'BE3_78': 'vigorous_leisure(m)',\n",
    "    'BE3_83': 'moderate_work(h)',\n",
    "    'BE3_84': 'moderate_work(m)',\n",
    "    'BE3_87': 'moderate_leisure(h)',\n",
    "    'BE3_88': 'moderate_leisure(m)',\n",
    "    'pa_aerobic': 'aerobic',\n",
    "    'HE_obe': 'obesity',\n",
    "    'HE_BMI': 'BMI'\n",
    "})"
   ]
  },
  {
   "cell_type": "code",
   "execution_count": 83,
   "id": "29cf9fad-020e-4f76-bdf6-b5664da976d4",
   "metadata": {},
   "outputs": [],
   "source": [
    "conditions = [\n",
    "    (df_selected['obesity'] == 1),\n",
    "    (df_selected['obesity'].isin([2, 3])),\n",
    "    (df_selected['obesity'].isin([4, 5, 6]))\n",
    "]\n",
    "choices = ['저체중', '정상', '비만']\n",
    "\n",
    "df_selected['isObesity'] = np.select(conditions, choices, default='NaN')\n",
    "df_selected = df_selected[df_selected['isObesity'] != '저체중'] #저체중 열 제외\n",
    "df_selected['BMI'] = round(df_selected['BMI'], 1)"
   ]
  },
  {
   "cell_type": "code",
   "execution_count": 84,
   "id": "a65545dd-f21d-4fd9-8dec-fb518a928947",
   "metadata": {},
   "outputs": [],
   "source": [
    "bins = [0, 19, 29, 39, 49, 59, 69 ,80]\n",
    "age_labels = ['10s', '20s', '30s', '40s', '50s', '60s', '70+']\n",
    "df_selected['age_group'] = pd.cut(df_selected.age, bins=bins, labels = age_labels)"
   ]
  },
  {
   "cell_type": "code",
   "execution_count": 85,
   "id": "23c6874d-3a0a-432b-b4de-7ff4a792c53e",
   "metadata": {},
   "outputs": [],
   "source": [
    "#결측치(NaN, 무응답) 제거\n",
    "df_selected = df_selected.dropna()\n",
    "\n",
    "cols = ['vigorous_work(h)', 'vigorous_work(m)', 'vigorous_leisure(h)', 'vigorous_leisure(m)', 'moderate_work(h)', 'moderate_work(m)', 'moderate_leisure(h)', 'moderate_leisure(m)']\n",
    "df_selected = df_selected[~df_selected[cols].isin([99]).any(axis=1)]"
   ]
  },
  {
   "cell_type": "code",
   "execution_count": 86,
   "id": "ae9b9ec6-b214-4e1f-ae2c-1c756c46c49d",
   "metadata": {},
   "outputs": [],
   "source": [
    "#비해당은 0시간으로 기록\n",
    "df_selected[cols] = df_selected[cols].replace(88, 0)"
   ]
  },
  {
   "cell_type": "code",
   "execution_count": 87,
   "id": "0c0ff8f8-b21e-4bcc-91a8-317a70ebd413",
   "metadata": {},
   "outputs": [],
   "source": [
    "vigorous_work = round(df_selected['vigorous_work(h)'] + df_selected['vigorous_work(m)'] / 60, 1)\n",
    "vigorous_leisure = round(df_selected['vigorous_leisure(h)'] + df_selected['vigorous_leisure(m)'] / 60, 1)\n",
    "moderate_work = round(df_selected['moderate_work(h)'] + df_selected['moderate_work(m)'] / 60, 1)\n",
    "moderate_leisure = round(df_selected['moderate_leisure(h)'] + df_selected['moderate_leisure(m)'] / 60, 1)\n",
    "\n",
    "df_selected['vigorous'] = vigorous_work + vigorous_leisure\n",
    "df_selected['moderate'] = moderate_work + moderate_leisure"
   ]
  },
  {
   "cell_type": "code",
   "execution_count": 88,
   "id": "1b7f0fd7-2967-4aac-9d43-63f0a841d32e",
   "metadata": {},
   "outputs": [],
   "source": [
    "def Calculator(a):\n",
    "    Cal_moderate = a['moderate']\n",
    "    Cal_vigorous = a['vigorous']\n",
    "    total = Cal_moderate + Cal_vigorous * 2\n",
    "    if total == 0:\n",
    "        return 0\n",
    "    elif total < 1.5:\n",
    "        return 1\n",
    "    elif total >= 1.5:\n",
    "        return 2"
   ]
  },
  {
   "cell_type": "code",
   "execution_count": 89,
   "id": "2de4cb87-a288-4063-ac4e-3ff0c0146c4e",
   "metadata": {},
   "outputs": [],
   "source": [
    "def Calculator1(a):\n",
    "    Cal_moderate = a['moderate']\n",
    "    Cal_vigorous = a['vigorous']\n",
    "    total = Cal_moderate + Cal_vigorous * 2\n",
    "    return total"
   ]
  },
  {
   "cell_type": "code",
   "execution_count": 90,
   "id": "11d21a7d-0410-4881-b011-674ed3dc88fc",
   "metadata": {},
   "outputs": [],
   "source": [
    "df_selected['workout_rate'] = df_selected.apply(Calculator, axis=1)\n",
    "df_selected['workout'] = df_selected.apply(Calculator1, axis=1)"
   ]
  },
  {
   "cell_type": "code",
   "execution_count": 91,
   "id": "75ae1aab-f4e0-4fe9-8c0d-903af81f698e",
   "metadata": {},
   "outputs": [
    {
     "data": {
      "text/html": [
       "<div>\n",
       "<style scoped>\n",
       "    .dataframe tbody tr th:only-of-type {\n",
       "        vertical-align: middle;\n",
       "    }\n",
       "\n",
       "    .dataframe tbody tr th {\n",
       "        vertical-align: top;\n",
       "    }\n",
       "\n",
       "    .dataframe thead th {\n",
       "        text-align: right;\n",
       "    }\n",
       "</style>\n",
       "<table border=\"1\" class=\"dataframe\">\n",
       "  <thead>\n",
       "    <tr style=\"text-align: right;\">\n",
       "      <th></th>\n",
       "      <th>ID</th>\n",
       "      <th>sex</th>\n",
       "      <th>age</th>\n",
       "      <th>vigorous_work(h)</th>\n",
       "      <th>vigorous_work(m)</th>\n",
       "      <th>vigorous_leisure(h)</th>\n",
       "      <th>vigorous_leisure(m)</th>\n",
       "      <th>moderate_work(h)</th>\n",
       "      <th>moderate_work(m)</th>\n",
       "      <th>moderate_leisure(h)</th>\n",
       "      <th>moderate_leisure(m)</th>\n",
       "      <th>aerobic</th>\n",
       "      <th>obesity</th>\n",
       "      <th>BMI</th>\n",
       "      <th>isObesity</th>\n",
       "      <th>age_group</th>\n",
       "      <th>vigorous</th>\n",
       "      <th>moderate</th>\n",
       "      <th>workout_rate</th>\n",
       "      <th>workout</th>\n",
       "    </tr>\n",
       "  </thead>\n",
       "  <tbody>\n",
       "    <tr>\n",
       "      <th>0</th>\n",
       "      <td>YA84208301</td>\n",
       "      <td>M</td>\n",
       "      <td>75</td>\n",
       "      <td>0.0</td>\n",
       "      <td>0.0</td>\n",
       "      <td>0.0</td>\n",
       "      <td>0.0</td>\n",
       "      <td>0.0</td>\n",
       "      <td>0.0</td>\n",
       "      <td>0.0</td>\n",
       "      <td>0.0</td>\n",
       "      <td>0.0</td>\n",
       "      <td>3.0</td>\n",
       "      <td>23.1</td>\n",
       "      <td>정상</td>\n",
       "      <td>70+</td>\n",
       "      <td>0.0</td>\n",
       "      <td>0.0</td>\n",
       "      <td>0</td>\n",
       "      <td>0.0</td>\n",
       "    </tr>\n",
       "    <tr>\n",
       "      <th>2</th>\n",
       "      <td>YA84212402</td>\n",
       "      <td>F</td>\n",
       "      <td>42</td>\n",
       "      <td>0.0</td>\n",
       "      <td>0.0</td>\n",
       "      <td>0.0</td>\n",
       "      <td>0.0</td>\n",
       "      <td>0.0</td>\n",
       "      <td>0.0</td>\n",
       "      <td>0.0</td>\n",
       "      <td>0.0</td>\n",
       "      <td>0.0</td>\n",
       "      <td>2.0</td>\n",
       "      <td>21.8</td>\n",
       "      <td>정상</td>\n",
       "      <td>40s</td>\n",
       "      <td>0.0</td>\n",
       "      <td>0.0</td>\n",
       "      <td>0</td>\n",
       "      <td>0.0</td>\n",
       "    </tr>\n",
       "    <tr>\n",
       "      <th>4</th>\n",
       "      <td>YA84242702</td>\n",
       "      <td>M</td>\n",
       "      <td>43</td>\n",
       "      <td>0.0</td>\n",
       "      <td>0.0</td>\n",
       "      <td>0.0</td>\n",
       "      <td>0.0</td>\n",
       "      <td>0.0</td>\n",
       "      <td>0.0</td>\n",
       "      <td>0.0</td>\n",
       "      <td>0.0</td>\n",
       "      <td>0.0</td>\n",
       "      <td>3.0</td>\n",
       "      <td>23.3</td>\n",
       "      <td>정상</td>\n",
       "      <td>40s</td>\n",
       "      <td>0.0</td>\n",
       "      <td>0.0</td>\n",
       "      <td>0</td>\n",
       "      <td>0.0</td>\n",
       "    </tr>\n",
       "    <tr>\n",
       "      <th>8</th>\n",
       "      <td>YA84382301</td>\n",
       "      <td>M</td>\n",
       "      <td>42</td>\n",
       "      <td>0.0</td>\n",
       "      <td>0.0</td>\n",
       "      <td>0.0</td>\n",
       "      <td>0.0</td>\n",
       "      <td>0.0</td>\n",
       "      <td>0.0</td>\n",
       "      <td>0.0</td>\n",
       "      <td>0.0</td>\n",
       "      <td>0.0</td>\n",
       "      <td>2.0</td>\n",
       "      <td>22.8</td>\n",
       "      <td>정상</td>\n",
       "      <td>40s</td>\n",
       "      <td>0.0</td>\n",
       "      <td>0.0</td>\n",
       "      <td>0</td>\n",
       "      <td>0.0</td>\n",
       "    </tr>\n",
       "    <tr>\n",
       "      <th>9</th>\n",
       "      <td>YA84382302</td>\n",
       "      <td>F</td>\n",
       "      <td>43</td>\n",
       "      <td>0.0</td>\n",
       "      <td>0.0</td>\n",
       "      <td>0.0</td>\n",
       "      <td>0.0</td>\n",
       "      <td>0.0</td>\n",
       "      <td>0.0</td>\n",
       "      <td>0.0</td>\n",
       "      <td>0.0</td>\n",
       "      <td>0.0</td>\n",
       "      <td>2.0</td>\n",
       "      <td>20.2</td>\n",
       "      <td>정상</td>\n",
       "      <td>40s</td>\n",
       "      <td>0.0</td>\n",
       "      <td>0.0</td>\n",
       "      <td>0</td>\n",
       "      <td>0.0</td>\n",
       "    </tr>\n",
       "    <tr>\n",
       "      <th>...</th>\n",
       "      <td>...</td>\n",
       "      <td>...</td>\n",
       "      <td>...</td>\n",
       "      <td>...</td>\n",
       "      <td>...</td>\n",
       "      <td>...</td>\n",
       "      <td>...</td>\n",
       "      <td>...</td>\n",
       "      <td>...</td>\n",
       "      <td>...</td>\n",
       "      <td>...</td>\n",
       "      <td>...</td>\n",
       "      <td>...</td>\n",
       "      <td>...</td>\n",
       "      <td>...</td>\n",
       "      <td>...</td>\n",
       "      <td>...</td>\n",
       "      <td>...</td>\n",
       "      <td>...</td>\n",
       "      <td>...</td>\n",
       "    </tr>\n",
       "    <tr>\n",
       "      <th>6924</th>\n",
       "      <td>YR62368101</td>\n",
       "      <td>M</td>\n",
       "      <td>80</td>\n",
       "      <td>0.0</td>\n",
       "      <td>0.0</td>\n",
       "      <td>0.0</td>\n",
       "      <td>0.0</td>\n",
       "      <td>0.0</td>\n",
       "      <td>0.0</td>\n",
       "      <td>0.0</td>\n",
       "      <td>0.0</td>\n",
       "      <td>0.0</td>\n",
       "      <td>3.0</td>\n",
       "      <td>24.0</td>\n",
       "      <td>정상</td>\n",
       "      <td>70+</td>\n",
       "      <td>0.0</td>\n",
       "      <td>0.0</td>\n",
       "      <td>0</td>\n",
       "      <td>0.0</td>\n",
       "    </tr>\n",
       "    <tr>\n",
       "      <th>6925</th>\n",
       "      <td>YR62368102</td>\n",
       "      <td>F</td>\n",
       "      <td>78</td>\n",
       "      <td>0.0</td>\n",
       "      <td>0.0</td>\n",
       "      <td>0.0</td>\n",
       "      <td>0.0</td>\n",
       "      <td>0.0</td>\n",
       "      <td>30.0</td>\n",
       "      <td>1.0</td>\n",
       "      <td>0.0</td>\n",
       "      <td>1.0</td>\n",
       "      <td>4.0</td>\n",
       "      <td>29.0</td>\n",
       "      <td>비만</td>\n",
       "      <td>70+</td>\n",
       "      <td>0.0</td>\n",
       "      <td>1.5</td>\n",
       "      <td>2</td>\n",
       "      <td>1.5</td>\n",
       "    </tr>\n",
       "    <tr>\n",
       "      <th>6926</th>\n",
       "      <td>YR62370201</td>\n",
       "      <td>F</td>\n",
       "      <td>61</td>\n",
       "      <td>0.0</td>\n",
       "      <td>0.0</td>\n",
       "      <td>0.0</td>\n",
       "      <td>0.0</td>\n",
       "      <td>0.0</td>\n",
       "      <td>0.0</td>\n",
       "      <td>0.0</td>\n",
       "      <td>20.0</td>\n",
       "      <td>1.0</td>\n",
       "      <td>2.0</td>\n",
       "      <td>19.1</td>\n",
       "      <td>정상</td>\n",
       "      <td>60s</td>\n",
       "      <td>0.0</td>\n",
       "      <td>0.3</td>\n",
       "      <td>1</td>\n",
       "      <td>0.3</td>\n",
       "    </tr>\n",
       "    <tr>\n",
       "      <th>6927</th>\n",
       "      <td>YR62394401</td>\n",
       "      <td>M</td>\n",
       "      <td>57</td>\n",
       "      <td>0.0</td>\n",
       "      <td>0.0</td>\n",
       "      <td>0.0</td>\n",
       "      <td>0.0</td>\n",
       "      <td>0.0</td>\n",
       "      <td>0.0</td>\n",
       "      <td>0.0</td>\n",
       "      <td>20.0</td>\n",
       "      <td>1.0</td>\n",
       "      <td>3.0</td>\n",
       "      <td>24.9</td>\n",
       "      <td>정상</td>\n",
       "      <td>50s</td>\n",
       "      <td>0.0</td>\n",
       "      <td>0.3</td>\n",
       "      <td>1</td>\n",
       "      <td>0.3</td>\n",
       "    </tr>\n",
       "    <tr>\n",
       "      <th>6928</th>\n",
       "      <td>YR62432901</td>\n",
       "      <td>M</td>\n",
       "      <td>49</td>\n",
       "      <td>0.0</td>\n",
       "      <td>0.0</td>\n",
       "      <td>0.0</td>\n",
       "      <td>0.0</td>\n",
       "      <td>0.0</td>\n",
       "      <td>0.0</td>\n",
       "      <td>0.0</td>\n",
       "      <td>0.0</td>\n",
       "      <td>0.0</td>\n",
       "      <td>2.0</td>\n",
       "      <td>20.3</td>\n",
       "      <td>정상</td>\n",
       "      <td>40s</td>\n",
       "      <td>0.0</td>\n",
       "      <td>0.0</td>\n",
       "      <td>0</td>\n",
       "      <td>0.0</td>\n",
       "    </tr>\n",
       "  </tbody>\n",
       "</table>\n",
       "<p>5047 rows × 20 columns</p>\n",
       "</div>"
      ],
      "text/plain": [
       "              ID sex  age  vigorous_work(h)  vigorous_work(m)  \\\n",
       "0     YA84208301   M   75               0.0               0.0   \n",
       "2     YA84212402   F   42               0.0               0.0   \n",
       "4     YA84242702   M   43               0.0               0.0   \n",
       "8     YA84382301   M   42               0.0               0.0   \n",
       "9     YA84382302   F   43               0.0               0.0   \n",
       "...          ...  ..  ...               ...               ...   \n",
       "6924  YR62368101   M   80               0.0               0.0   \n",
       "6925  YR62368102   F   78               0.0               0.0   \n",
       "6926  YR62370201   F   61               0.0               0.0   \n",
       "6927  YR62394401   M   57               0.0               0.0   \n",
       "6928  YR62432901   M   49               0.0               0.0   \n",
       "\n",
       "      vigorous_leisure(h)  vigorous_leisure(m)  moderate_work(h)  \\\n",
       "0                     0.0                  0.0               0.0   \n",
       "2                     0.0                  0.0               0.0   \n",
       "4                     0.0                  0.0               0.0   \n",
       "8                     0.0                  0.0               0.0   \n",
       "9                     0.0                  0.0               0.0   \n",
       "...                   ...                  ...               ...   \n",
       "6924                  0.0                  0.0               0.0   \n",
       "6925                  0.0                  0.0               0.0   \n",
       "6926                  0.0                  0.0               0.0   \n",
       "6927                  0.0                  0.0               0.0   \n",
       "6928                  0.0                  0.0               0.0   \n",
       "\n",
       "      moderate_work(m)  moderate_leisure(h)  moderate_leisure(m)  aerobic  \\\n",
       "0                  0.0                  0.0                  0.0      0.0   \n",
       "2                  0.0                  0.0                  0.0      0.0   \n",
       "4                  0.0                  0.0                  0.0      0.0   \n",
       "8                  0.0                  0.0                  0.0      0.0   \n",
       "9                  0.0                  0.0                  0.0      0.0   \n",
       "...                ...                  ...                  ...      ...   \n",
       "6924               0.0                  0.0                  0.0      0.0   \n",
       "6925              30.0                  1.0                  0.0      1.0   \n",
       "6926               0.0                  0.0                 20.0      1.0   \n",
       "6927               0.0                  0.0                 20.0      1.0   \n",
       "6928               0.0                  0.0                  0.0      0.0   \n",
       "\n",
       "      obesity   BMI isObesity age_group  vigorous  moderate  workout_rate  \\\n",
       "0         3.0  23.1        정상       70+       0.0       0.0             0   \n",
       "2         2.0  21.8        정상       40s       0.0       0.0             0   \n",
       "4         3.0  23.3        정상       40s       0.0       0.0             0   \n",
       "8         2.0  22.8        정상       40s       0.0       0.0             0   \n",
       "9         2.0  20.2        정상       40s       0.0       0.0             0   \n",
       "...       ...   ...       ...       ...       ...       ...           ...   \n",
       "6924      3.0  24.0        정상       70+       0.0       0.0             0   \n",
       "6925      4.0  29.0        비만       70+       0.0       1.5             2   \n",
       "6926      2.0  19.1        정상       60s       0.0       0.3             1   \n",
       "6927      3.0  24.9        정상       50s       0.0       0.3             1   \n",
       "6928      2.0  20.3        정상       40s       0.0       0.0             0   \n",
       "\n",
       "      workout  \n",
       "0         0.0  \n",
       "2         0.0  \n",
       "4         0.0  \n",
       "8         0.0  \n",
       "9         0.0  \n",
       "...       ...  \n",
       "6924      0.0  \n",
       "6925      1.5  \n",
       "6926      0.3  \n",
       "6927      0.3  \n",
       "6928      0.0  \n",
       "\n",
       "[5047 rows x 20 columns]"
      ]
     },
     "execution_count": 91,
     "metadata": {},
     "output_type": "execute_result"
    }
   ],
   "source": [
    "df_selected"
   ]
  },
  {
   "cell_type": "markdown",
   "id": "ad4275d9-0e42-4169-87af-00eb659871b6",
   "metadata": {},
   "source": [
    "---"
   ]
  },
  {
   "cell_type": "markdown",
   "id": "b90234df-4302-433b-99ab-928fbbc1aed1",
   "metadata": {},
   "source": [
    "#### 운동 실천율 - 비만율 관계 주목 이유: 체중조절 방법으로 운동을 선택한 사람의 비율이 많음\n",
    "#### 따라서 운동 실천율에 따라 비만여부에 차이가 있을 것이다라고 가정"
   ]
  },
  {
   "cell_type": "code",
   "execution_count": 24,
   "id": "9b0935e5-944f-4359-b294-5d240635ef0d",
   "metadata": {},
   "outputs": [
    {
     "data": {
      "image/png": "[encoded data removed]",
      "text/plain": [
       "<Figure size 1500x600 with 1 Axes>"
      ]
     },
     "metadata": {},
     "output_type": "display_data"
    }
   ],
   "source": [
    "# 1)\n",
    "labels = ['정상', '비만']\n",
    "sizes = [(df_selected.isObesity == '정상').sum(), (df_selected.isObesity == '비만').sum()]\n",
    "colors = ['lightskyblue', 'lightcoral']\n",
    "\n",
    "plt.figure(figsize = (15, 6))\n",
    "\n",
    "plt.pie(sizes, labels = labels, colors = colors,\n",
    "        autopct = '%1.1f%%', shadow = True, startangle = 90, counterclock = True, textprops={'fontsize': 14})\n",
    "\n",
    "plt.axis('equal')\n",
    "plt.title('비만율 분포', fontsize = 20)\n",
    "plt.show()"
   ]
  },
  {
   "cell_type": "code",
   "execution_count": 25,
   "id": "440ff6dd-3f3d-46fb-acc7-e27cf4a0f447",
   "metadata": {},
   "outputs": [],
   "source": [
    "selected_col = ['BO2_1', 'BO3_01']\n",
    "df1 = df_22[selected_col]\n",
    "df1 = df1.rename(columns={\n",
    "    'BO2_1': 'try',\n",
    "    'BO3_01': 'exercise'})\n",
    "\n",
    "df1 = df1.dropna() # 결측치 제거\n",
    "df1 = df1[~(df1['try'].isin([4, 8, 9]))]\n",
    "#df1.try --> 1:체중 감소 노력 2:체중 유지 노력 3: 체중 증가 노력 4: 체중 조절 해본적 없음 8:비해당 9:무응답"
   ]
  },
  {
   "cell_type": "code",
   "execution_count": 26,
   "id": "35504802-4303-47e4-bdd9-26860e2f8365",
   "metadata": {},
   "outputs": [
    {
     "data": {
      "image/png": "[encoded data removed]",
      "text/plain": [
       "<Figure size 1500x600 with 1 Axes>"
      ]
     },
     "metadata": {},
     "output_type": "display_data"
    }
   ],
   "source": [
    "# 2)\n",
    "labels = ['Exercise', 'Non-Exercise']\n",
    "sizes = [(df1.exercise == 1).sum(), (df1.exercise == 0).sum()]\n",
    "colors = ['yellowgreen', 'lightskyblue']\n",
    "\n",
    "plt.figure(figsize = (15, 6))\n",
    "\n",
    "plt.pie(sizes, labels = labels, colors = colors,\n",
    "        autopct = '%1.1f%%', shadow = True, startangle = 90, counterclock = False, textprops={'fontsize': 16})\n",
    "\n",
    "plt.axis('equal')\n",
    "plt.title('체중조절 방법 - 운동', fontsize = 20)\n",
    "plt.show()"
   ]
  },
  {
   "cell_type": "markdown",
   "id": "f698dd3f-33d2-4e7d-885c-9c14a8a9247a",
   "metadata": {},
   "source": [
    "---"
   ]
  },
  {
   "cell_type": "markdown",
   "id": "fe1e6662-8cf1-4b6b-9db1-61c7e094e530",
   "metadata": {},
   "source": [
    "### 신체활동 실천 정도 - 비만 여부"
   ]
  },
  {
   "cell_type": "code",
   "execution_count": 29,
   "id": "c667b6eb-8107-42a4-8ded-67291db023ce",
   "metadata": {},
   "outputs": [
    {
     "data": {
      "image/png": "[encoded data removed]",
      "text/plain": [
       "<Figure size 640x480 with 1 Axes>"
      ]
     },
     "metadata": {},
     "output_type": "display_data"
    }
   ],
   "source": [
    "sns.countplot(data=df_selected, x='workout_rate', hue='isObesity', order = ['0','1','2'])\n",
    "plt.title('신체활동 실천 정도에 따른 비만 여부')\n",
    "plt.xlabel('운동 실천 수준 (0: 안함, 1: 보통, 2: 많이)')\n",
    "plt.ylabel('인원 수')\n",
    "plt.legend(title='신체활동 실천율')\n",
    "plt.show()"
   ]
  },
  {
   "cell_type": "code",
   "execution_count": 30,
   "id": "8a8cf506-a35f-4a5a-a2ee-80ce7f8a54e2",
   "metadata": {},
   "outputs": [],
   "source": [
    "#각 운동 실천율 그룹별 인원 수가 다르기 때문에 막대 높이의 절댓값만 보면 그룹 간 차이를 보기 어려움"
   ]
  },
  {
   "cell_type": "code",
   "execution_count": 31,
   "id": "f05ddfc4-c998-48fa-b63b-44d747e23864",
   "metadata": {},
   "outputs": [
    {
     "data": {
      "text/html": [
       "<div>\n",
       "<style scoped>\n",
       "    .dataframe tbody tr th:only-of-type {\n",
       "        vertical-align: middle;\n",
       "    }\n",
       "\n",
       "    .dataframe tbody tr th {\n",
       "        vertical-align: top;\n",
       "    }\n",
       "\n",
       "    .dataframe thead th {\n",
       "        text-align: right;\n",
       "    }\n",
       "</style>\n",
       "<table border=\"1\" class=\"dataframe\">\n",
       "  <thead>\n",
       "    <tr style=\"text-align: right;\">\n",
       "      <th></th>\n",
       "      <th>workout_rate</th>\n",
       "      <th>체중상태</th>\n",
       "      <th>비율</th>\n",
       "    </tr>\n",
       "  </thead>\n",
       "  <tbody>\n",
       "    <tr>\n",
       "      <th>0</th>\n",
       "      <td>0</td>\n",
       "      <td>비만</td>\n",
       "      <td>0.37</td>\n",
       "    </tr>\n",
       "    <tr>\n",
       "      <th>1</th>\n",
       "      <td>1</td>\n",
       "      <td>비만</td>\n",
       "      <td>0.36</td>\n",
       "    </tr>\n",
       "    <tr>\n",
       "      <th>2</th>\n",
       "      <td>2</td>\n",
       "      <td>비만</td>\n",
       "      <td>0.41</td>\n",
       "    </tr>\n",
       "    <tr>\n",
       "      <th>3</th>\n",
       "      <td>0</td>\n",
       "      <td>정상</td>\n",
       "      <td>0.63</td>\n",
       "    </tr>\n",
       "    <tr>\n",
       "      <th>4</th>\n",
       "      <td>1</td>\n",
       "      <td>정상</td>\n",
       "      <td>0.64</td>\n",
       "    </tr>\n",
       "    <tr>\n",
       "      <th>5</th>\n",
       "      <td>2</td>\n",
       "      <td>정상</td>\n",
       "      <td>0.59</td>\n",
       "    </tr>\n",
       "  </tbody>\n",
       "</table>\n",
       "</div>"
      ],
      "text/plain": [
       "   workout_rate 체중상태    비율\n",
       "0             0   비만  0.37\n",
       "1             1   비만  0.36\n",
       "2             2   비만  0.41\n",
       "3             0   정상  0.63\n",
       "4             1   정상  0.64\n",
       "5             2   정상  0.59"
      ]
     },
     "execution_count": 31,
     "metadata": {},
     "output_type": "execute_result"
    }
   ],
   "source": [
    "cross_table2 = round(pd.crosstab(df_selected['workout_rate'], df_selected['isObesity'], normalize='index'),2)\n",
    "cross_table2_ratio = cross_table2.div(cross_table2.sum(axis=1), axis=0)\n",
    "cross_tab= cross_table2_ratio.reset_index().melt(id_vars='workout_rate', value_vars=cross_table2_ratio.columns, var_name='체중상태', value_name='비율')\n",
    "cross_tab"
   ]
  },
  {
   "cell_type": "code",
   "execution_count": 32,
   "id": "2d930475-f334-4923-b420-6964db1c6e25",
   "metadata": {},
   "outputs": [
    {
     "data": {
      "image/png": "[encoded data removed]",
      "text/plain": [
       "<Figure size 640x480 with 1 Axes>"
      ]
     },
     "metadata": {},
     "output_type": "display_data"
    }
   ],
   "source": [
    "sns.barplot(data = cross_tab, x='workout_rate', y='비율', hue='체중상태')\n",
    "plt.title('운동 실천 정도에 따른 체중 상태 비율')\n",
    "plt.ylabel('비율')\n",
    "plt.xlabel('운동 실천 정도 (0=안함, 1=보통, 2=많이)')\n",
    "plt.ylim(0, 1)\n",
    "plt.tight_layout()\n",
    "plt.show()"
   ]
  },
  {
   "cell_type": "code",
   "execution_count": 33,
   "id": "7e4064c7-40ec-4c1b-b8a0-3ffb7cd77727",
   "metadata": {},
   "outputs": [
    {
     "data": {
      "text/html": [
       "<div>\n",
       "<style scoped>\n",
       "    .dataframe tbody tr th:only-of-type {\n",
       "        vertical-align: middle;\n",
       "    }\n",
       "\n",
       "    .dataframe tbody tr th {\n",
       "        vertical-align: top;\n",
       "    }\n",
       "\n",
       "    .dataframe thead th {\n",
       "        text-align: right;\n",
       "    }\n",
       "</style>\n",
       "<table border=\"1\" class=\"dataframe\">\n",
       "  <thead>\n",
       "    <tr style=\"text-align: right;\">\n",
       "      <th>isObesity</th>\n",
       "      <th>비만</th>\n",
       "      <th>정상</th>\n",
       "    </tr>\n",
       "    <tr>\n",
       "      <th>workout_rate</th>\n",
       "      <th></th>\n",
       "      <th></th>\n",
       "    </tr>\n",
       "  </thead>\n",
       "  <tbody>\n",
       "    <tr>\n",
       "      <th>0</th>\n",
       "      <td>0.37</td>\n",
       "      <td>0.63</td>\n",
       "    </tr>\n",
       "    <tr>\n",
       "      <th>1</th>\n",
       "      <td>0.36</td>\n",
       "      <td>0.64</td>\n",
       "    </tr>\n",
       "    <tr>\n",
       "      <th>2</th>\n",
       "      <td>0.41</td>\n",
       "      <td>0.59</td>\n",
       "    </tr>\n",
       "  </tbody>\n",
       "</table>\n",
       "</div>"
      ],
      "text/plain": [
       "isObesity       비만    정상\n",
       "workout_rate            \n",
       "0             0.37  0.63\n",
       "1             0.36  0.64\n",
       "2             0.41  0.59"
      ]
     },
     "execution_count": 33,
     "metadata": {},
     "output_type": "execute_result"
    }
   ],
   "source": [
    "cross_table3 = round(pd.crosstab(df_selected['workout_rate'], df_selected['isObesity'], normalize='index'),2)\n",
    "cross_table3"
   ]
  },
  {
   "cell_type": "code",
   "execution_count": 34,
   "id": "d4920fa7-c114-46a2-a619-51d273b4c639",
   "metadata": {},
   "outputs": [],
   "source": [
    "#운동 실천 수준이 높다고 해서 비만율이 낮아지는 경향은 보이지 않음\n",
    "#운동 실천 수준이 제일 높은 그룹(2)에서는 오히려 비만 비율이 늘어남\n",
    "#비만이기 때문에 운동을 더 실천했을 가능성도 있음\n",
    "#단순한 상관관계만으로 인과관계를 해석하기 어렵고, 교란 변수(예: 식습관, 건강 인식 등)도 고려해야 함"
   ]
  },
  {
   "cell_type": "markdown",
   "id": "2983b3f9-7f6f-4e27-a492-b0fddaf950e5",
   "metadata": {},
   "source": [
    "## 가설검정"
   ]
  },
  {
   "cell_type": "code",
   "execution_count": 36,
   "id": "66f86efc-b364-4457-8eb9-45bf81eff9ae",
   "metadata": {},
   "outputs": [],
   "source": [
    "#귀무가설: 운동 실천 정도와 비만 여부는 서로 관계가 없다"
   ]
  },
  {
   "cell_type": "code",
   "execution_count": 37,
   "id": "97b0ae81-015f-426d-963e-67fdb937f9ae",
   "metadata": {},
   "outputs": [
    {
     "data": {
      "text/html": [
       "<div>\n",
       "<style scoped>\n",
       "    .dataframe tbody tr th:only-of-type {\n",
       "        vertical-align: middle;\n",
       "    }\n",
       "\n",
       "    .dataframe tbody tr th {\n",
       "        vertical-align: top;\n",
       "    }\n",
       "\n",
       "    .dataframe thead th {\n",
       "        text-align: right;\n",
       "    }\n",
       "</style>\n",
       "<table border=\"1\" class=\"dataframe\">\n",
       "  <thead>\n",
       "    <tr style=\"text-align: right;\">\n",
       "      <th>isObesity</th>\n",
       "      <th>비만</th>\n",
       "      <th>정상</th>\n",
       "    </tr>\n",
       "    <tr>\n",
       "      <th>workout_rate</th>\n",
       "      <th></th>\n",
       "      <th></th>\n",
       "    </tr>\n",
       "  </thead>\n",
       "  <tbody>\n",
       "    <tr>\n",
       "      <th>0</th>\n",
       "      <td>1078</td>\n",
       "      <td>1828</td>\n",
       "    </tr>\n",
       "    <tr>\n",
       "      <th>1</th>\n",
       "      <td>501</td>\n",
       "      <td>909</td>\n",
       "    </tr>\n",
       "    <tr>\n",
       "      <th>2</th>\n",
       "      <td>297</td>\n",
       "      <td>434</td>\n",
       "    </tr>\n",
       "  </tbody>\n",
       "</table>\n",
       "</div>"
      ],
      "text/plain": [
       "isObesity       비만    정상\n",
       "workout_rate            \n",
       "0             1078  1828\n",
       "1              501   909\n",
       "2              297   434"
      ]
     },
     "execution_count": 37,
     "metadata": {},
     "output_type": "execute_result"
    }
   ],
   "source": [
    "cross_table = pd.crosstab(df_selected['workout_rate'], df_selected['isObesity'])\n",
    "cross_table"
   ]
  },
  {
   "cell_type": "code",
   "execution_count": 38,
   "id": "fe764698-3a37-4e58-a102-b2db7a11b37b",
   "metadata": {},
   "outputs": [],
   "source": [
    "chi2, p, dof, expected = stats.chi2_contingency(cross_table)"
   ]
  },
  {
   "cell_type": "code",
   "execution_count": 39,
   "id": "74c337ae-1a08-418f-ba22-aefae03793b1",
   "metadata": {},
   "outputs": [
    {
     "name": "stdout",
     "output_type": "stream",
     "text": [
      "5.372561184388988\n",
      "0.06813388638244323\n",
      "2\n",
      "[[1080.178 1825.822]\n",
      " [ 524.105  885.895]\n",
      " [ 271.717  459.283]]\n"
     ]
    }
   ],
   "source": [
    "print(chi2)\n",
    "print(p)\n",
    "print(dof)\n",
    "print(expected)"
   ]
  },
  {
   "cell_type": "code",
   "execution_count": 40,
   "id": "e2611878-886e-428e-a628-4fceb200be08",
   "metadata": {},
   "outputs": [],
   "source": [
    "#통계적으로 유의하지않다"
   ]
  },
  {
   "cell_type": "markdown",
   "id": "7ae8b610-6e7e-4386-839f-da30508b0ad5",
   "metadata": {},
   "source": [
    "---"
   ]
  },
  {
   "cell_type": "markdown",
   "id": "99c4a6b5-4e7f-42db-8899-aed8ac1482dc",
   "metadata": {},
   "source": [
    "## 운동 강도별 비만율"
   ]
  },
  {
   "cell_type": "code",
   "execution_count": 43,
   "id": "abe9108a-606a-48e6-81c5-0210c2e674ba",
   "metadata": {},
   "outputs": [],
   "source": [
    "# sns.violinplot(df_selected, x = 'isObesity', y = 'vigorous')\n",
    "# plt.show()"
   ]
  },
  {
   "cell_type": "code",
   "execution_count": 44,
   "id": "4d91f49e-d745-4b96-a01f-01367d3cc704",
   "metadata": {},
   "outputs": [],
   "source": [
    "# sns.violinplot(df_selected, x = 'isObesity', y = 'moderate')\n",
    "# plt.show()"
   ]
  },
  {
   "cell_type": "code",
   "execution_count": 45,
   "id": "d1bdea06-c638-4575-a9fa-2f2739c027dc",
   "metadata": {},
   "outputs": [
    {
     "data": {
      "image/png": "[encoded data removed]",
      "text/plain": [
       "<Figure size 640x480 with 1 Axes>"
      ]
     },
     "metadata": {},
     "output_type": "display_data"
    }
   ],
   "source": [
    "df_active = df_selected[df_selected['vigorous'] != 0]\n",
    "\n",
    "sns.countplot(data=df_active, x='isObesity')\n",
    "plt.title('고강도 운동 실천 그룹의 비만 여부 분포')\n",
    "plt.xlabel('비만 여부')\n",
    "plt.ylabel('인원 수')\n",
    "plt.show()"
   ]
  },
  {
   "cell_type": "code",
   "execution_count": 46,
   "id": "f7674854-c5df-4290-a042-64df7b293aab",
   "metadata": {},
   "outputs": [
    {
     "data": {
      "image/png": "[encoded data removed]",
      "text/plain": [
       "<Figure size 640x480 with 1 Axes>"
      ]
     },
     "metadata": {},
     "output_type": "display_data"
    }
   ],
   "source": [
    "#운동 안하는 그룹 제외\n",
    "sns.violinplot(df_active, x = 'isObesity', y = 'vigorous')\n",
    "plt.show()"
   ]
  },
  {
   "cell_type": "code",
   "execution_count": 47,
   "id": "a2cbbdb9-304c-4a32-85f1-7fd360f2b67b",
   "metadata": {},
   "outputs": [
    {
     "name": "stdout",
     "output_type": "stream",
     "text": [
      "U 통계량: 56648.5\n",
      "p-value: 0.8108711994109828\n"
     ]
    }
   ],
   "source": [
    "#운동시간이 정규분포를 따르지 않으므로 Mann-Whitney U 검정 (비모수검정)\n",
    "#귀무가설: 비만 여부에 따라 고강도 운동시간의 차이가 없다.\n",
    "#대립가설: 비만 여부에 따라 고강도 운동시간의 차이가 있다.\n",
    "from scipy.stats import mannwhitneyu\n",
    "\n",
    "vigorous_normal = df_active[df_active['isObesity'] == '정상']['vigorous']\n",
    "vigorous_obese = df_active[df_active['isObesity'] == '비만']['vigorous']\n",
    "\n",
    "u_stat, p_value = mannwhitneyu(vigorous_normal, vigorous_obese, alternative='two-sided')\n",
    "print(\"U 통계량:\", u_stat)\n",
    "print(\"p-value:\", p_value)"
   ]
  },
  {
   "cell_type": "markdown",
   "id": "3349a1c6-740c-4220-9f19-d01be373edeb",
   "metadata": {},
   "source": [
    "---"
   ]
  },
  {
   "cell_type": "code",
   "execution_count": 49,
   "id": "49a3cebf-abbf-4b2e-b9b2-3a63900662dc",
   "metadata": {},
   "outputs": [
    {
     "data": {
      "image/png": "[encoded data removed]",
      "text/plain": [
       "<Figure size 640x480 with 1 Axes>"
      ]
     },
     "metadata": {},
     "output_type": "display_data"
    }
   ],
   "source": [
    "df_active2 = df_selected[df_selected['moderate'] != 0]\n",
    "\n",
    "sns.countplot(data=df_active2, x='isObesity')\n",
    "plt.title('중강도 운동 실천 그룹의 비만 여부 분포')\n",
    "plt.xlabel('비만 여부')\n",
    "plt.ylabel('인원 수')\n",
    "plt.show()"
   ]
  },
  {
   "cell_type": "code",
   "execution_count": 50,
   "id": "deec7654-8868-4eb9-bbca-a504965c7f24",
   "metadata": {},
   "outputs": [
    {
     "data": {
      "image/png": "[encoded data removed]",
      "text/plain": [
       "<Figure size 640x480 with 1 Axes>"
      ]
     },
     "metadata": {},
     "output_type": "display_data"
    }
   ],
   "source": [
    "sns.violinplot(df_active2, x = 'isObesity', y = 'vigorous')\n",
    "plt.show()"
   ]
  },
  {
   "cell_type": "code",
   "execution_count": 51,
   "id": "b47597c9-3125-4fd1-83be-b7f76eb64709",
   "metadata": {},
   "outputs": [
    {
     "name": "stdout",
     "output_type": "stream",
     "text": [
      "U 통계량: 442670.0\n",
      "p-value: 0.024732319724433658\n"
     ]
    }
   ],
   "source": [
    "#운동시간이 정규분포를 따르지 않으므로 Mann-Whitney U 검정 (비모수검정)\n",
    "#귀무가설: 비만 여부에 따라 중강도 운동시간의 차이가 없다.\n",
    "#대립가설: 비만 여부에 따라 중강도 운동시간의 차이가 있다.\n",
    "from scipy.stats import mannwhitneyu\n",
    "\n",
    "moderate_normal = df_active2[df_active2['isObesity'] == '정상']['moderate']\n",
    "moderate_obese = df_active2[df_active2['isObesity'] == '비만']['moderate']\n",
    "\n",
    "u_stat, p_value = mannwhitneyu(moderate_normal, moderate_obese, alternative='two-sided')\n",
    "print(\"U 통계량:\", u_stat)\n",
    "print(\"p-value:\", p_value)"
   ]
  },
  {
   "cell_type": "code",
   "execution_count": 52,
   "id": "bdfa10a3-bd1c-4eff-9c2d-cbd7bce62df6",
   "metadata": {},
   "outputs": [
    {
     "name": "stdout",
     "output_type": "stream",
     "text": [
      "정상 그룹 중강도 운동 시간 (평균): 0.97\n",
      "비만 그룹 중강도 운동 시간 (평균): 1.07\n"
     ]
    }
   ],
   "source": [
    "print(\"정상 그룹 중강도 운동 시간 (평균):\", round(moderate_normal.mean(), 2))\n",
    "print(\"비만 그룹 중강도 운동 시간 (평균):\", round(moderate_obese.mean(), 2))"
   ]
  },
  {
   "cell_type": "markdown",
   "id": "25fc721c-12e1-4ba0-a94f-d00edab9e70f",
   "metadata": {},
   "source": [
    "#### 시각적으로는 정상 표본과 비만 표본 간의 고강도 및 중강도 시간 분포의 차이를 보기 어려웠으나 비모수검정을 실시한 결과 두 집단 간의 중강도 운동 시간에 통계적으로 유의미한 차이가 있는 것으로 나타났다(비만 집단의 운동시간이 높은 것으로 나타남)\n",
    "#### 고강도 운동 시간은 통계적으로 유의미한 차이가 없는 것으로 보임\n",
    "#### 비만 집단은 중강도 운동은 정상 집단보다 많이 하는 경향이 있지만 고강도 운동에서는 그런 경향이 보이지않음"
   ]
  },
  {
   "cell_type": "markdown",
   "id": "b0a7c65c-b2e0-4746-84bf-33db9bfbdae8",
   "metadata": {},
   "source": [
    "---"
   ]
  },
  {
   "cell_type": "markdown",
   "id": "4962c79e-9d60-4668-bdd6-3aacd58199b6",
   "metadata": {},
   "source": [
    "## 성별"
   ]
  },
  {
   "cell_type": "code",
   "execution_count": 56,
   "id": "4d683537-90de-4909-9507-7b1e85ca9d3f",
   "metadata": {},
   "outputs": [
    {
     "data": {
      "image/png": "[encoded data removed]",
      "text/plain": [
       "<Figure size 1000x600 with 1 Axes>"
      ]
     },
     "metadata": {},
     "output_type": "display_data"
    }
   ],
   "source": [
    "obe = pd.crosstab(df_selected.sex, df_selected.isObesity, normalize='index')\n",
    "obe = obe.reindex(columns = ['정상', '비만'])\n",
    "\n",
    "# 누적 막대그래프\n",
    "ax = obe.T.plot(kind='bar', stacked=True, figsize=(10, 6))\n",
    "\n",
    "# 퍼센트 표시\n",
    "for i, col in enumerate(obe.columns):\n",
    "    cumulative = 0\n",
    "    for category in obe.index:\n",
    "        height = obe.loc[category, col] \n",
    "        ax.text(i, cumulative + height / 2,\n",
    "                f'{height*100:.1f}%',\n",
    "                ha='center', va='center', fontsize=14, color='black')\n",
    "        cumulative += height\n",
    "\n",
    "plt.title('성별 - 비만율', fontsize = 20)\n",
    "plt.xticks(rotation = 0, fontsize = 12)\n",
    "plt.legend(title='성별')\n",
    "plt.tight_layout()\n",
    "plt.show()"
   ]
  },
  {
   "cell_type": "code",
   "execution_count": 57,
   "id": "32d000b7-0e56-4c59-a513-fe21f02bf3b3",
   "metadata": {},
   "outputs": [
    {
     "data": {
      "image/png": "[encoded data removed]",
      "text/plain": [
       "<Figure size 1000x600 with 1 Axes>"
      ]
     },
     "metadata": {},
     "output_type": "display_data"
    }
   ],
   "source": [
    "wor = pd.crosstab(df_selected.sex, df_selected.workout_rate, normalize='index')\n",
    "\n",
    "# 누적 막대그래프\n",
    "ax1 = wor.T.plot(kind='bar', stacked=True, figsize=(10, 6))\n",
    "\n",
    "for i, col in enumerate(wor.columns):\n",
    "    cumulative = 0\n",
    "    for category in wor.index:\n",
    "        height = wor.loc[category, col] \n",
    "        ax1.text(i, cumulative + height / 2,\n",
    "                f'{height*100:.1f}%',\n",
    "                ha='center', va='center', fontsize=14, color='black')\n",
    "        cumulative += height\n",
    "\n",
    "plt.title('성별 - 운동실천', fontsize = 20)\n",
    "plt.xlabel('운동실천', fontsize = 14)\n",
    "plt.xticks(rotation = 0, fontsize = 12)\n",
    "plt.legend(title='성별')\n",
    "plt.tight_layout()\n",
    "plt.show()"
   ]
  },
  {
   "cell_type": "code",
   "execution_count": 58,
   "id": "72884d97-9ffd-486c-ae65-937425d12ac0",
   "metadata": {},
   "outputs": [
    {
     "data": {
      "image/png": "[encoded data removed]",
      "text/plain": [
       "<Figure size 640x480 with 1 Axes>"
      ]
     },
     "metadata": {},
     "output_type": "display_data"
    }
   ],
   "source": [
    "sns.countplot(df_selected, x = 'sex', hue = 'isObesity')\n",
    "plt.show()"
   ]
  },
  {
   "cell_type": "code",
   "execution_count": 59,
   "id": "8b7e490e-ce10-4003-be41-4f8516161a58",
   "metadata": {},
   "outputs": [
    {
     "data": {
      "image/png": "[encoded data removed]",
      "text/plain": [
       "<Figure size 640x480 with 1 Axes>"
      ]
     },
     "metadata": {},
     "output_type": "display_data"
    }
   ],
   "source": [
    "#남성\n",
    "df_m = df_selected[df_selected['sex'] != \"F\"]\n",
    "sns.countplot(data=df_m, x='isObesity', hue='workout_rate', order = ['정상', '비만'])\n",
    "plt.title('신체활동 실천 정도에 따른 비만 여부')\n",
    "plt.xlabel('운동 실천 수준 (0: 안함, 1: 보통, 2: 많이)')\n",
    "plt.ylabel('인원 수')\n",
    "plt.legend(title='신체활동 실천율')\n",
    "plt.show()"
   ]
  },
  {
   "cell_type": "code",
   "execution_count": 60,
   "id": "0756a827-51be-4a3f-ab65-fb81b0914756",
   "metadata": {},
   "outputs": [],
   "source": [
    "#남성 표본 가설검정"
   ]
  },
  {
   "cell_type": "code",
   "execution_count": 61,
   "id": "294756e6-8ead-4c4b-a08f-2ef8f7099bc5",
   "metadata": {},
   "outputs": [
    {
     "data": {
      "text/html": [
       "<div>\n",
       "<style scoped>\n",
       "    .dataframe tbody tr th:only-of-type {\n",
       "        vertical-align: middle;\n",
       "    }\n",
       "\n",
       "    .dataframe tbody tr th {\n",
       "        vertical-align: top;\n",
       "    }\n",
       "\n",
       "    .dataframe thead th {\n",
       "        text-align: right;\n",
       "    }\n",
       "</style>\n",
       "<table border=\"1\" class=\"dataframe\">\n",
       "  <thead>\n",
       "    <tr style=\"text-align: right;\">\n",
       "      <th>isObesity</th>\n",
       "      <th>비만</th>\n",
       "      <th>정상</th>\n",
       "    </tr>\n",
       "    <tr>\n",
       "      <th>workout_rate</th>\n",
       "      <th></th>\n",
       "      <th></th>\n",
       "    </tr>\n",
       "  </thead>\n",
       "  <tbody>\n",
       "    <tr>\n",
       "      <th>0</th>\n",
       "      <td>471</td>\n",
       "      <td>698</td>\n",
       "    </tr>\n",
       "    <tr>\n",
       "      <th>1</th>\n",
       "      <td>266</td>\n",
       "      <td>347</td>\n",
       "    </tr>\n",
       "    <tr>\n",
       "      <th>2</th>\n",
       "      <td>216</td>\n",
       "      <td>241</td>\n",
       "    </tr>\n",
       "  </tbody>\n",
       "</table>\n",
       "</div>"
      ],
      "text/plain": [
       "isObesity      비만   정상\n",
       "workout_rate          \n",
       "0             471  698\n",
       "1             266  347\n",
       "2             216  241"
      ]
     },
     "execution_count": 61,
     "metadata": {},
     "output_type": "execute_result"
    }
   ],
   "source": [
    "cross_table_m = pd.crosstab(df_m['workout_rate'], df_selected['isObesity'])\n",
    "cross_table_m"
   ]
  },
  {
   "cell_type": "code",
   "execution_count": 62,
   "id": "0dd7087d-fa5d-4c9f-a531-f7828f76efe3",
   "metadata": {},
   "outputs": [],
   "source": [
    "chi2, p, dof, expected = stats.chi2_contingency(cross_table_m)"
   ]
  },
  {
   "cell_type": "code",
   "execution_count": 63,
   "id": "200c164f-ca23-4174-b506-b635ae721989",
   "metadata": {},
   "outputs": [
    {
     "name": "stdout",
     "output_type": "stream",
     "text": [
      "6.773980610272148\n",
      "0.033810282555619804\n",
      "2\n",
      "[[497.569 671.431]\n",
      " [260.915 352.085]\n",
      " [194.516 262.484]]\n"
     ]
    }
   ],
   "source": [
    "print(chi2)\n",
    "print(p)\n",
    "print(dof)\n",
    "print(expected)"
   ]
  },
  {
   "cell_type": "code",
   "execution_count": 64,
   "id": "063ef2fa-e8ec-4fb4-b709-3453954d052e",
   "metadata": {},
   "outputs": [
    {
     "data": {
      "image/png": "[encoded data removed]",
      "text/plain": [
       "<Figure size 640x480 with 1 Axes>"
      ]
     },
     "metadata": {},
     "output_type": "display_data"
    }
   ],
   "source": [
    "#여성\n",
    "df_f = df_selected[df_selected['sex'] != \"M\"]\n",
    "sns.countplot(data=df_f, x='isObesity', hue='workout_rate', order = ['정상', '비만'])\n",
    "plt.title('신체활동 실천 정도에 따른 비만 여부')\n",
    "plt.xlabel('운동 실천 수준 (0: 안함, 1: 보통, 2: 많이)')\n",
    "plt.ylabel('인원 수')\n",
    "plt.legend(title='신체활동 실천율')\n",
    "plt.show()"
   ]
  },
  {
   "cell_type": "code",
   "execution_count": 65,
   "id": "009185b0-a626-4239-a20c-fb1f506f104f",
   "metadata": {},
   "outputs": [],
   "source": [
    "#여성표본 가설검정"
   ]
  },
  {
   "cell_type": "code",
   "execution_count": 66,
   "id": "599c2427-3c65-4618-839a-4eb8676c5937",
   "metadata": {},
   "outputs": [
    {
     "data": {
      "text/html": [
       "<div>\n",
       "<style scoped>\n",
       "    .dataframe tbody tr th:only-of-type {\n",
       "        vertical-align: middle;\n",
       "    }\n",
       "\n",
       "    .dataframe tbody tr th {\n",
       "        vertical-align: top;\n",
       "    }\n",
       "\n",
       "    .dataframe thead th {\n",
       "        text-align: right;\n",
       "    }\n",
       "</style>\n",
       "<table border=\"1\" class=\"dataframe\">\n",
       "  <thead>\n",
       "    <tr style=\"text-align: right;\">\n",
       "      <th>isObesity</th>\n",
       "      <th>비만</th>\n",
       "      <th>정상</th>\n",
       "    </tr>\n",
       "    <tr>\n",
       "      <th>workout_rate</th>\n",
       "      <th></th>\n",
       "      <th></th>\n",
       "    </tr>\n",
       "  </thead>\n",
       "  <tbody>\n",
       "    <tr>\n",
       "      <th>0</th>\n",
       "      <td>607</td>\n",
       "      <td>1130</td>\n",
       "    </tr>\n",
       "    <tr>\n",
       "      <th>1</th>\n",
       "      <td>235</td>\n",
       "      <td>562</td>\n",
       "    </tr>\n",
       "    <tr>\n",
       "      <th>2</th>\n",
       "      <td>81</td>\n",
       "      <td>193</td>\n",
       "    </tr>\n",
       "  </tbody>\n",
       "</table>\n",
       "</div>"
      ],
      "text/plain": [
       "isObesity      비만    정상\n",
       "workout_rate           \n",
       "0             607  1130\n",
       "1             235   562\n",
       "2              81   193"
      ]
     },
     "execution_count": 66,
     "metadata": {},
     "output_type": "execute_result"
    }
   ],
   "source": [
    "cross_table_f = pd.crosstab(df_f['workout_rate'], df_selected['isObesity'])\n",
    "cross_table_f"
   ]
  },
  {
   "cell_type": "code",
   "execution_count": 67,
   "id": "e480d159-f1bd-422c-bc59-df5ec2f9e13e",
   "metadata": {},
   "outputs": [],
   "source": [
    "chi2, p, dof, expected = stats.chi2_contingency(cross_table_f)"
   ]
  },
  {
   "cell_type": "code",
   "execution_count": 68,
   "id": "969a99b4-af10-4c2e-b488-262de2763e53",
   "metadata": {},
   "outputs": [
    {
     "name": "stdout",
     "output_type": "stream",
     "text": [
      "8.886384657093362\n",
      "0.011758342050549682\n",
      "2\n",
      "[[ 570.958 1166.042]\n",
      " [ 261.977  535.023]\n",
      " [  90.065  183.935]]\n"
     ]
    }
   ],
   "source": [
    "print(chi2)\n",
    "print(p)\n",
    "print(dof)\n",
    "print(expected)"
   ]
  },
  {
   "cell_type": "markdown",
   "id": "6ffbaf93-9c06-4765-9dca-0f2ae14062ee",
   "metadata": {},
   "source": [
    "#### 성별을 구분하지 않았을 때 운동 실천 정도와 비만 여부 사이의 관계는 통계적으로 유의하지 않았지만(p = 0.06), 성별로 나누어 분석한 결과 남성과 여성 모두에서 운동 실천 수준이 높을수록 비만율이 낮아지는 유의미한 경향이 있음."
   ]
  },
  {
   "cell_type": "markdown",
   "id": "70300bd2-5ba3-463d-beaa-9ec6668b066d",
   "metadata": {},
   "source": [
    "---"
   ]
  },
  {
   "cell_type": "markdown",
   "id": "8179dafd-b4ac-4a1f-a84d-dd0f3082f957",
   "metadata": {},
   "source": [
    "## 결론"
   ]
  },
  {
   "cell_type": "markdown",
   "id": "8625f06b-e042-4721-a108-521a7929b867",
   "metadata": {},
   "source": [
    "* 전체적으로 운동을 많이 할수록 비만율이 낮아지는 뚜렷한 경향은 보이지 않음.\n",
    "운동을 가장 많이 실천한 그룹에서 비만 비율이 더 높게 나타났는데, 이는 비만 그룹이 체중을 조절하기 위해 운동을 더 실천했을 가능성이 있음.\n",
    "단순한 상관관계만으로 운동이 비만에 영향을 준다고 해석하기는 어렵고, 식습관이나 건강 인식 같은 다른 요인의 영향도 함께 고려해야 할 것으로 생각됨.\n",
    "하지만 성별로 나누어 분석해 보면, 남성과 여성 모두에서 운동 실천 수준이 높을수록 비만율이 낮아지는 유의미한 경향이 나타났고,\n",
    "운동 강도별로는 고강도 운동 시간에서는 뚜렷한 차이가 없었지만, 중강도 운동 시간은 비만 집단에서 더 높았고, 이 차이는 통계적으로도 유의한 것으로 보아 성별이나 운동의 종류 같은 세부 요인을 고려한 분석이 중요하다고 생각됨."
   ]
  },
  {
   "cell_type": "code",
   "execution_count": 144,
   "id": "06497066-25b3-4402-b67f-f0220134d953",
   "metadata": {},
   "outputs": [],
   "source": [
    "df_selected.to_csv('df.csv', index = False, encoding = 'cp949')"
   ]
  },
  {
   "cell_type": "code",
   "execution_count": null,
   "id": "9e0b9598-3688-4214-8922-987cfd34fc32",
   "metadata": {},
   "outputs": [],
   "source": []
  }
 ],
 "metadata": {
  "kernelspec": {
   "display_name": "Python [conda env:base] *",
   "language": "python",
   "name": "conda-base-py"
  },
  "language_info": {
   "codemirror_mode": {
    "name": "ipython",
    "version": 3
   },
   "file_extension": ".py",
   "mimetype": "text/x-python",
   "name": "python",
   "nbconvert_exporter": "python",
   "pygments_lexer": "ipython3",
   "version": "3.12.7"
  }
 },
 "nbformat": 4,
 "nbformat_minor": 5
}
